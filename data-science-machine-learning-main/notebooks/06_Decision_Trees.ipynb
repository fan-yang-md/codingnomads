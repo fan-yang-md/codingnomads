{
 "cells": [
  {
   "cell_type": "code",
   "execution_count": 52,
   "metadata": {},
   "outputs": [],
   "source": [
    "import numpy as np\n",
    "import pandas as pd\n",
    "import matplotlib.pyplot as plt\n",
    "\n",
    "#preprocessing\n",
    "from sklearn.preprocessing import StandardScaler, MinMaxScaler\n",
    "\n",
    "# classifier we will use\n",
    "from sklearn.tree import DecisionTreeClassifier\n",
    "\n",
    "# model selection bits\n",
    "from sklearn.model_selection import train_test_split\n",
    "\n",
    "# evaluation\n",
    "from sklearn.metrics import f1_score\n",
    "from sklearn.metrics import accuracy_score\n"
   ]
  },
  {
   "attachments": {},
   "cell_type": "markdown",
   "metadata": {},
   "source": [
    "# Detecting Spam with Decision Trees\n",
    "\n",
    "In this assignment you will detect spam with decision trees. It's always important to investigate the data that you are using for any project. Since data is our gold mine, it's our oil that powers our models we need to have good quality data. Machine learning follows the \"garbage in, garbage out\" principle, if we feed in bad data for training, we will get a model that produces bad results.  For these reasons we want to answer the following questions.\n",
    "\n",
    "## 0.  Learn about the data\n",
    "\n",
    "1. Where did this data come from?\n",
    "2. Who made it?\n",
    "3. How were the features selected?\n",
    "4. Can you trust it?\n",
    "\n",
    "Go ahead and scan through the spambase_features.txt file and the spambase.txt file.  These two files provide information about the dataset, how it was curated and where it came from. Then try to answer the above questions.\n",
    "\n",
    "\n",
    "## 1. Load the data"
   ]
  },
  {
   "cell_type": "code",
   "execution_count": 53,
   "metadata": {},
   "outputs": [],
   "source": [
    "## we are going to hardcode the column names, because this just makes it a little easier to use pandas.\n",
    "\n",
    "names = ['word_freq_make:        ',\n",
    "'word_freq_address:     ',\n",
    "'word_freq_all:         ',\n",
    "'word_freq_3d:          ',\n",
    "'word_freq_our:         ',\n",
    "'word_freq_over:        ',\n",
    "'word_freq_remove:      ',\n",
    "'word_freq_internet:    ',\n",
    "'word_freq_order:       ',\n",
    "'word_freq_mail:        ',\n",
    "'word_freq_receive:     ',\n",
    "'word_freq_will:        ',\n",
    "'word_freq_people:      ',\n",
    "'word_freq_report:      ',\n",
    "'word_freq_addresses:   ',\n",
    "'word_freq_free:        ',\n",
    "'word_freq_business:    ',\n",
    "'word_freq_email:       ',\n",
    "'word_freq_you:         ',\n",
    "'word_freq_credit:      ',\n",
    "'word_freq_your:        ',\n",
    "'word_freq_font:        ',\n",
    "'word_freq_000:         ',\n",
    "'word_freq_money:       ',\n",
    "'word_freq_hp:          ',\n",
    "'word_freq_hpl:         ',\n",
    "'word_freq_george:      ',\n",
    "'word_freq_650:         ',\n",
    "'word_freq_lab:         ',\n",
    "'word_freq_labs:        ',\n",
    "'word_freq_telnet:      ',\n",
    "'word_freq_857:         ',\n",
    "'word_freq_data:        ',\n",
    "'word_freq_415:         ',\n",
    "'word_freq_85:          ',\n",
    "'word_freq_technology:  ',\n",
    "'word_freq_1999:        ',\n",
    "'word_freq_parts:       ',\n",
    "'word_freq_pm:          ',\n",
    "'word_freq_direct:      ',\n",
    "'word_freq_cs:          ',\n",
    "'word_freq_meeting:     ',\n",
    "'word_freq_original:    ',\n",
    "'word_freq_project:     ',\n",
    "'word_freq_re:          ',\n",
    "'word_freq_edu:         ',\n",
    "'word_freq_table:       ',\n",
    "'word_freq_conference:  ',\n",
    "'char_freq_;:           ',\n",
    "'char_freq_(:           ',\n",
    "'char_freq_[:           ',\n",
    "'char_freq_!:           ',\n",
    "'char_freq_$:           ',\n",
    "'char_freq_#:           ',\n",
    "'capital_run_length_average',\n",
    "'capital_run_length_longest',\n",
    "'capital_run_length_total: ',\n",
    "'label']\n",
    "          "
   ]
  },
  {
   "cell_type": "code",
   "execution_count": 54,
   "metadata": {},
   "outputs": [
    {
     "data": {
      "text/html": [
       "<div>\n",
       "<style scoped>\n",
       "    .dataframe tbody tr th:only-of-type {\n",
       "        vertical-align: middle;\n",
       "    }\n",
       "\n",
       "    .dataframe tbody tr th {\n",
       "        vertical-align: top;\n",
       "    }\n",
       "\n",
       "    .dataframe thead th {\n",
       "        text-align: right;\n",
       "    }\n",
       "</style>\n",
       "<table border=\"1\" class=\"dataframe\">\n",
       "  <thead>\n",
       "    <tr style=\"text-align: right;\">\n",
       "      <th></th>\n",
       "      <th>word_freq_make:</th>\n",
       "      <th>word_freq_address:</th>\n",
       "      <th>word_freq_all:</th>\n",
       "      <th>word_freq_3d:</th>\n",
       "      <th>word_freq_our:</th>\n",
       "      <th>word_freq_over:</th>\n",
       "      <th>word_freq_remove:</th>\n",
       "      <th>word_freq_internet:</th>\n",
       "      <th>word_freq_order:</th>\n",
       "      <th>word_freq_mail:</th>\n",
       "      <th>...</th>\n",
       "      <th>char_freq_;:</th>\n",
       "      <th>char_freq_(:</th>\n",
       "      <th>char_freq_[:</th>\n",
       "      <th>char_freq_!:</th>\n",
       "      <th>char_freq_$:</th>\n",
       "      <th>char_freq_#:</th>\n",
       "      <th>capital_run_length_average</th>\n",
       "      <th>capital_run_length_longest</th>\n",
       "      <th>capital_run_length_total:</th>\n",
       "      <th>label</th>\n",
       "    </tr>\n",
       "  </thead>\n",
       "  <tbody>\n",
       "    <tr>\n",
       "      <th>0</th>\n",
       "      <td>0.00</td>\n",
       "      <td>0.64</td>\n",
       "      <td>0.64</td>\n",
       "      <td>0.0</td>\n",
       "      <td>0.32</td>\n",
       "      <td>0.00</td>\n",
       "      <td>0.00</td>\n",
       "      <td>0.00</td>\n",
       "      <td>0.00</td>\n",
       "      <td>0.00</td>\n",
       "      <td>...</td>\n",
       "      <td>0.00</td>\n",
       "      <td>0.000</td>\n",
       "      <td>0.0</td>\n",
       "      <td>0.778</td>\n",
       "      <td>0.000</td>\n",
       "      <td>0.000</td>\n",
       "      <td>3.756</td>\n",
       "      <td>61</td>\n",
       "      <td>278</td>\n",
       "      <td>1</td>\n",
       "    </tr>\n",
       "    <tr>\n",
       "      <th>1</th>\n",
       "      <td>0.21</td>\n",
       "      <td>0.28</td>\n",
       "      <td>0.50</td>\n",
       "      <td>0.0</td>\n",
       "      <td>0.14</td>\n",
       "      <td>0.28</td>\n",
       "      <td>0.21</td>\n",
       "      <td>0.07</td>\n",
       "      <td>0.00</td>\n",
       "      <td>0.94</td>\n",
       "      <td>...</td>\n",
       "      <td>0.00</td>\n",
       "      <td>0.132</td>\n",
       "      <td>0.0</td>\n",
       "      <td>0.372</td>\n",
       "      <td>0.180</td>\n",
       "      <td>0.048</td>\n",
       "      <td>5.114</td>\n",
       "      <td>101</td>\n",
       "      <td>1028</td>\n",
       "      <td>1</td>\n",
       "    </tr>\n",
       "    <tr>\n",
       "      <th>2</th>\n",
       "      <td>0.06</td>\n",
       "      <td>0.00</td>\n",
       "      <td>0.71</td>\n",
       "      <td>0.0</td>\n",
       "      <td>1.23</td>\n",
       "      <td>0.19</td>\n",
       "      <td>0.19</td>\n",
       "      <td>0.12</td>\n",
       "      <td>0.64</td>\n",
       "      <td>0.25</td>\n",
       "      <td>...</td>\n",
       "      <td>0.01</td>\n",
       "      <td>0.143</td>\n",
       "      <td>0.0</td>\n",
       "      <td>0.276</td>\n",
       "      <td>0.184</td>\n",
       "      <td>0.010</td>\n",
       "      <td>9.821</td>\n",
       "      <td>485</td>\n",
       "      <td>2259</td>\n",
       "      <td>1</td>\n",
       "    </tr>\n",
       "    <tr>\n",
       "      <th>3</th>\n",
       "      <td>0.00</td>\n",
       "      <td>0.00</td>\n",
       "      <td>0.00</td>\n",
       "      <td>0.0</td>\n",
       "      <td>0.63</td>\n",
       "      <td>0.00</td>\n",
       "      <td>0.31</td>\n",
       "      <td>0.63</td>\n",
       "      <td>0.31</td>\n",
       "      <td>0.63</td>\n",
       "      <td>...</td>\n",
       "      <td>0.00</td>\n",
       "      <td>0.137</td>\n",
       "      <td>0.0</td>\n",
       "      <td>0.137</td>\n",
       "      <td>0.000</td>\n",
       "      <td>0.000</td>\n",
       "      <td>3.537</td>\n",
       "      <td>40</td>\n",
       "      <td>191</td>\n",
       "      <td>1</td>\n",
       "    </tr>\n",
       "    <tr>\n",
       "      <th>4</th>\n",
       "      <td>0.00</td>\n",
       "      <td>0.00</td>\n",
       "      <td>0.00</td>\n",
       "      <td>0.0</td>\n",
       "      <td>0.63</td>\n",
       "      <td>0.00</td>\n",
       "      <td>0.31</td>\n",
       "      <td>0.63</td>\n",
       "      <td>0.31</td>\n",
       "      <td>0.63</td>\n",
       "      <td>...</td>\n",
       "      <td>0.00</td>\n",
       "      <td>0.135</td>\n",
       "      <td>0.0</td>\n",
       "      <td>0.135</td>\n",
       "      <td>0.000</td>\n",
       "      <td>0.000</td>\n",
       "      <td>3.537</td>\n",
       "      <td>40</td>\n",
       "      <td>191</td>\n",
       "      <td>1</td>\n",
       "    </tr>\n",
       "  </tbody>\n",
       "</table>\n",
       "<p>5 rows × 58 columns</p>\n",
       "</div>"
      ],
      "text/plain": [
       "   word_freq_make:          word_freq_address:       word_freq_all:           \\\n",
       "0                     0.00                     0.64                     0.64   \n",
       "1                     0.21                     0.28                     0.50   \n",
       "2                     0.06                     0.00                     0.71   \n",
       "3                     0.00                     0.00                     0.00   \n",
       "4                     0.00                     0.00                     0.00   \n",
       "\n",
       "   word_freq_3d:            word_freq_our:           word_freq_over:          \\\n",
       "0                      0.0                     0.32                     0.00   \n",
       "1                      0.0                     0.14                     0.28   \n",
       "2                      0.0                     1.23                     0.19   \n",
       "3                      0.0                     0.63                     0.00   \n",
       "4                      0.0                     0.63                     0.00   \n",
       "\n",
       "   word_freq_remove:        word_freq_internet:      word_freq_order:         \\\n",
       "0                     0.00                     0.00                     0.00   \n",
       "1                     0.21                     0.07                     0.00   \n",
       "2                     0.19                     0.12                     0.64   \n",
       "3                     0.31                     0.63                     0.31   \n",
       "4                     0.31                     0.63                     0.31   \n",
       "\n",
       "   word_freq_mail:          ...  char_freq_;:             \\\n",
       "0                     0.00  ...                     0.00   \n",
       "1                     0.94  ...                     0.00   \n",
       "2                     0.25  ...                     0.01   \n",
       "3                     0.63  ...                     0.00   \n",
       "4                     0.63  ...                     0.00   \n",
       "\n",
       "   char_freq_(:             char_freq_[:             char_freq_!:             \\\n",
       "0                    0.000                      0.0                    0.778   \n",
       "1                    0.132                      0.0                    0.372   \n",
       "2                    0.143                      0.0                    0.276   \n",
       "3                    0.137                      0.0                    0.137   \n",
       "4                    0.135                      0.0                    0.135   \n",
       "\n",
       "   char_freq_$:             char_freq_#:             \\\n",
       "0                    0.000                    0.000   \n",
       "1                    0.180                    0.048   \n",
       "2                    0.184                    0.010   \n",
       "3                    0.000                    0.000   \n",
       "4                    0.000                    0.000   \n",
       "\n",
       "   capital_run_length_average  capital_run_length_longest  \\\n",
       "0                       3.756                          61   \n",
       "1                       5.114                         101   \n",
       "2                       9.821                         485   \n",
       "3                       3.537                          40   \n",
       "4                       3.537                          40   \n",
       "\n",
       "   capital_run_length_total:   label  \n",
       "0                         278      1  \n",
       "1                        1028      1  \n",
       "2                        2259      1  \n",
       "3                         191      1  \n",
       "4                         191      1  \n",
       "\n",
       "[5 rows x 58 columns]"
      ]
     },
     "execution_count": 54,
     "metadata": {},
     "output_type": "execute_result"
    }
   ],
   "source": [
    "## Load in the dataset here \n",
    "data = pd.read_csv('spambase/spambase.csv', names = names)\n",
    "data.head()\n"
   ]
  },
  {
   "cell_type": "code",
   "execution_count": 55,
   "metadata": {},
   "outputs": [],
   "source": [
    "X = data.drop('label', axis = 1)\n",
    "y = data.label # same as y = data['label']?"
   ]
  },
  {
   "attachments": {},
   "cell_type": "markdown",
   "metadata": {},
   "source": [
    "## 2. Preprocess the data if needed\n",
    "\n",
    "1. Are there any empty values?\n",
    "2. Do you need to transform the data?\n",
    "3. What is the distribution of the positive and negative classes?\n",
    "4. Split the data into training and testing sets\n",
    "\n",
    "Let me give a few hints.  When it comes to scaling the data, we normally just _should_, but in this case we are going to be working with decision trees and I think we learned that they have an interesting property!  \n",
    "\n",
    "We want to look at the distribution of positive (spam) and negative (ham) classes.  So basically we need to look at the count of the labels.  You can use the function `.value_counts()` on `y`.  Note that the function `value_counts` is specific to the Series class, it doesn't work on Dataframes.  Now it's not just enough to look at the raw numbers, I suggest you calculate statistics like \"what percentage of my data is ham? What percentage is spam?  This may help you decide if you should use the `stratify` keyword when splitting your data.\n"
   ]
  },
  {
   "cell_type": "code",
   "execution_count": 56,
   "metadata": {},
   "outputs": [
    {
     "name": "stdout",
     "output_type": "stream",
     "text": [
      "percentage of spam: 39.40 %\n"
     ]
    }
   ],
   "source": [
    "count = y.value_counts(normalize=True)\n",
    "print(f'percentage of spam: {count[1]*100:.2f} %')\n"
   ]
  },
  {
   "cell_type": "code",
   "execution_count": 57,
   "metadata": {},
   "outputs": [],
   "source": [
    "## Split your data with 70% for training, this is somewhat random, but this is how I will do it in the \n",
    "## solution video so you will have similar results. Feel free to change this value and experiment if you like.\n",
    "X_train, X_test, y_train, y_test = train_test_split(X, y, stratify=y, test_size=0.3)\n"
   ]
  },
  {
   "attachments": {},
   "cell_type": "markdown",
   "metadata": {},
   "source": [
    "## 3. Train a Decision Tree Classifier\n",
    "\n",
    "1. What metric should we use? The f1-score or accuracy?\n",
    "\n",
    "Let's start with a default model, we won't specify any settings on the decision tree model for the first training. The following will be a 3-step process\n",
    " * training\n",
    " * getting predictions\n",
    " * evaluating our predictions\n",
    " \n",
    "The question does arise, what should we check our predictions on? The obvious answer is that we should check the predictions on our testing set. That's the set of data that simulates our future unseen data. However in our quest to figure out if we are overfitting or not, it could be very useful to look at the performance of the training set.  Remember when we overfit our polynomials and they touched every point? But then we added data the performance would drop. Similarly if the perfomance of the training data is near perfect, but the testing data is much worse, that _gap_ indicates overfitting. So we will check both training and testing performance.\n"
   ]
  },
  {
   "cell_type": "code",
   "execution_count": 58,
   "metadata": {},
   "outputs": [
    {
     "data": {
      "text/html": [
       "<style>#sk-container-id-3 {color: black;background-color: white;}#sk-container-id-3 pre{padding: 0;}#sk-container-id-3 div.sk-toggleable {background-color: white;}#sk-container-id-3 label.sk-toggleable__label {cursor: pointer;display: block;width: 100%;margin-bottom: 0;padding: 0.3em;box-sizing: border-box;text-align: center;}#sk-container-id-3 label.sk-toggleable__label-arrow:before {content: \"▸\";float: left;margin-right: 0.25em;color: #696969;}#sk-container-id-3 label.sk-toggleable__label-arrow:hover:before {color: black;}#sk-container-id-3 div.sk-estimator:hover label.sk-toggleable__label-arrow:before {color: black;}#sk-container-id-3 div.sk-toggleable__content {max-height: 0;max-width: 0;overflow: hidden;text-align: left;background-color: #f0f8ff;}#sk-container-id-3 div.sk-toggleable__content pre {margin: 0.2em;color: black;border-radius: 0.25em;background-color: #f0f8ff;}#sk-container-id-3 input.sk-toggleable__control:checked~div.sk-toggleable__content {max-height: 200px;max-width: 100%;overflow: auto;}#sk-container-id-3 input.sk-toggleable__control:checked~label.sk-toggleable__label-arrow:before {content: \"▾\";}#sk-container-id-3 div.sk-estimator input.sk-toggleable__control:checked~label.sk-toggleable__label {background-color: #d4ebff;}#sk-container-id-3 div.sk-label input.sk-toggleable__control:checked~label.sk-toggleable__label {background-color: #d4ebff;}#sk-container-id-3 input.sk-hidden--visually {border: 0;clip: rect(1px 1px 1px 1px);clip: rect(1px, 1px, 1px, 1px);height: 1px;margin: -1px;overflow: hidden;padding: 0;position: absolute;width: 1px;}#sk-container-id-3 div.sk-estimator {font-family: monospace;background-color: #f0f8ff;border: 1px dotted black;border-radius: 0.25em;box-sizing: border-box;margin-bottom: 0.5em;}#sk-container-id-3 div.sk-estimator:hover {background-color: #d4ebff;}#sk-container-id-3 div.sk-parallel-item::after {content: \"\";width: 100%;border-bottom: 1px solid gray;flex-grow: 1;}#sk-container-id-3 div.sk-label:hover label.sk-toggleable__label {background-color: #d4ebff;}#sk-container-id-3 div.sk-serial::before {content: \"\";position: absolute;border-left: 1px solid gray;box-sizing: border-box;top: 0;bottom: 0;left: 50%;z-index: 0;}#sk-container-id-3 div.sk-serial {display: flex;flex-direction: column;align-items: center;background-color: white;padding-right: 0.2em;padding-left: 0.2em;position: relative;}#sk-container-id-3 div.sk-item {position: relative;z-index: 1;}#sk-container-id-3 div.sk-parallel {display: flex;align-items: stretch;justify-content: center;background-color: white;position: relative;}#sk-container-id-3 div.sk-item::before, #sk-container-id-3 div.sk-parallel-item::before {content: \"\";position: absolute;border-left: 1px solid gray;box-sizing: border-box;top: 0;bottom: 0;left: 50%;z-index: -1;}#sk-container-id-3 div.sk-parallel-item {display: flex;flex-direction: column;z-index: 1;position: relative;background-color: white;}#sk-container-id-3 div.sk-parallel-item:first-child::after {align-self: flex-end;width: 50%;}#sk-container-id-3 div.sk-parallel-item:last-child::after {align-self: flex-start;width: 50%;}#sk-container-id-3 div.sk-parallel-item:only-child::after {width: 0;}#sk-container-id-3 div.sk-dashed-wrapped {border: 1px dashed gray;margin: 0 0.4em 0.5em 0.4em;box-sizing: border-box;padding-bottom: 0.4em;background-color: white;}#sk-container-id-3 div.sk-label label {font-family: monospace;font-weight: bold;display: inline-block;line-height: 1.2em;}#sk-container-id-3 div.sk-label-container {text-align: center;}#sk-container-id-3 div.sk-container {/* jupyter's `normalize.less` sets `[hidden] { display: none; }` but bootstrap.min.css set `[hidden] { display: none !important; }` so we also need the `!important` here to be able to override the default hidden behavior on the sphinx rendered scikit-learn.org. See: https://github.com/scikit-learn/scikit-learn/issues/21755 */display: inline-block !important;position: relative;}#sk-container-id-3 div.sk-text-repr-fallback {display: none;}</style><div id=\"sk-container-id-3\" class=\"sk-top-container\"><div class=\"sk-text-repr-fallback\"><pre>DecisionTreeClassifier()</pre><b>In a Jupyter environment, please rerun this cell to show the HTML representation or trust the notebook. <br />On GitHub, the HTML representation is unable to render, please try loading this page with nbviewer.org.</b></div><div class=\"sk-container\" hidden><div class=\"sk-item\"><div class=\"sk-estimator sk-toggleable\"><input class=\"sk-toggleable__control sk-hidden--visually\" id=\"sk-estimator-id-3\" type=\"checkbox\" checked><label for=\"sk-estimator-id-3\" class=\"sk-toggleable__label sk-toggleable__label-arrow\">DecisionTreeClassifier</label><div class=\"sk-toggleable__content\"><pre>DecisionTreeClassifier()</pre></div></div></div></div></div>"
      ],
      "text/plain": [
       "DecisionTreeClassifier()"
      ]
     },
     "execution_count": 58,
     "metadata": {},
     "output_type": "execute_result"
    }
   ],
   "source": [
    "## Train the model\n",
    "dtc = DecisionTreeClassifier()\n",
    "dtc.fit(X_train, y_train)"
   ]
  },
  {
   "cell_type": "code",
   "execution_count": 59,
   "metadata": {},
   "outputs": [],
   "source": [
    "## get predictions from the model on the training data and the testing data\n",
    "predict_train = dtc.predict(X_train)\n",
    "predict_test = dtc.predict(X_test)\n"
   ]
  },
  {
   "cell_type": "code",
   "execution_count": 60,
   "metadata": {},
   "outputs": [
    {
     "name": "stdout",
     "output_type": "stream",
     "text": [
      "training F1 score: 0.999\n",
      "test F1 score: 0.890\n"
     ]
    }
   ],
   "source": [
    "## evaluate the predictions\n",
    "## Note that the order of the arguments is **very** important for f1-score\n",
    "print(f'training F1 score: {f1_score(y_train, predict_train):.3f}')\n",
    "print(f'test F1 score: {f1_score(y_test, predict_test):.3f}')\n",
    "\n"
   ]
  },
  {
   "attachments": {},
   "cell_type": "markdown",
   "metadata": {},
   "source": [
    "## 4. Did we overfit? Either way, let's try out some of the decision tree parameters\n",
    "\n",
    "Go ahead and try out some different tree parameters. \n",
    "\n",
    "* `max_depth`\n",
    "* `min_samples_split`\n",
    "* `min_samples_leaf`\n",
    "\n",
    "All three of these parameters will control the complexity of the tree.  Before you try them out, let's take a quick quiz:\n",
    "\n",
    "* increasing `max_depth` will : **Increase** or **Decrease** overfitting?\n",
    "* increasing `min_samples_split` will: **Increase** or **Decrease** overfitting?\n",
    "* increasing `min_samples_leaf` will: **Increase** or **Decrease** overfitting?\n",
    "\n",
    "It's very important to know the answer to these questions - because other wise you can't tune the parameters correctly. If you aren't sure go back and check the quiz on this very topic.\n",
    "\n",
    "Go ahead and try at least 3 values for each parameter. Then if you try 3 values for each combination, you actually would try 9 total parameters. You can see where this is going -- `for` loops! At this point I encourage you to just try whatever method you want, you can ad-hoc try different values or you can get robust with for-loops. Whatever you are inspired to do. The main point is to try out some values and see what you find.  What helps improve our testing performance the best?"
   ]
  },
  {
   "attachments": {},
   "cell_type": "markdown",
   "metadata": {},
   "source": [
    "# Ok, now let's do it systematically\n",
    "\n",
    "Let's do it with some for loops. This will lead us to having more data than we can \"look\" at, so naturally we will plot it.\n",
    "I've started the for loop for you, you need to fill in the inner part."
   ]
  },
  {
   "cell_type": "code",
   "execution_count": 61,
   "metadata": {},
   "outputs": [
    {
     "name": "stdout",
     "output_type": "stream",
     "text": [
      "{2: 0.8134692069118299, 3: 0.8640065146579805, 4: 0.8846960167714883, 5: 0.9019607843137256, 6: 0.9158496732026143, 7: 0.9292433537832311, 8: 0.9397394136807817, 9: 0.9471094710947109, 10: 0.957223567393059, 11: 0.9615851192883137, 12: 0.9654895666131621, 13: 0.9693795326349719, 14: 0.9743589743589743, 15: 0.9799839871897518, 16: 0.9824, 17: 0.9860390905464699, 18: 0.9876444798724591, 19: 0.989247311827957, 20: 0.9900517309988062, 21: 0.9900517309988062, 22: 0.9920571882446386, 23: 0.9936558287073751, 24: 0.994855559952513, 25: 0.9956504547251878, 26: 0.9968379446640316, 27: 0.9968379446640316, 28: 0.9972342947451601, 29: 0.9988165680473373, 30: 0.999211356466877, 31: 0.999211356466877, 32: 0.999211356466877, 33: 0.999211356466877, 34: 0.999211356466877, 35: 0.999211356466877, 36: 0.999211356466877, 37: 0.999211356466877, 38: 0.999211356466877, 39: 0.999211356466877, 40: 0.999211356466877, 41: 0.999211356466877, 42: 0.999211356466877, 43: 0.999211356466877, 44: 0.999211356466877, 45: 0.999211356466877, 46: 0.999211356466877, 47: 0.999211356466877, 48: 0.999211356466877, 49: 0.999211356466877}\n",
      "\n",
      "{2: 0.804503582395087, 3: 0.8620361560418649, 4: 0.8621700879765395, 5: 0.8751191611058151, 6: 0.8834123222748814, 7: 0.8771266540642721, 8: 0.884071630537229, 9: 0.8827977315689981, 10: 0.8942937324602432, 11: 0.9070422535211267, 12: 0.9055555555555556, 13: 0.9040074557315936, 14: 0.9023941068139962, 15: 0.8897058823529411, 16: 0.890524379024839, 17: 0.899353647276085, 18: 0.9022140221402215, 19: 0.8872593950504124, 20: 0.8968692449355433, 21: 0.8897058823529411, 22: 0.8898999090081894, 23: 0.8945921173235564, 24: 0.8945921173235564, 25: 0.8950276243093923, 26: 0.885275519421861, 27: 0.8886861313868613, 28: 0.8929551692589204, 29: 0.896174863387978, 30: 0.8888888888888888, 31: 0.8796380090497739, 32: 0.8872727272727273, 33: 0.8945454545454545, 34: 0.882882882882883, 35: 0.8965517241379312, 36: 0.8898916967509025, 37: 0.8921124206708976, 38: 0.890909090909091, 39: 0.8915009041591321, 40: 0.8805031446540881, 41: 0.8925318761384335, 42: 0.8832579185520361, 43: 0.895117540687161, 44: 0.8973660308810172, 45: 0.8880800727934487, 46: 0.8880800727934487, 47: 0.8818755635707844, 48: 0.8898916967509025, 49: 0.8866727107887581}\n"
     ]
    }
   ],
   "source": [
    "train_results = {}\n",
    "test_results = {}\n",
    "for i in range(2,50): # feel free to change these, I just threw out a reasonable option here.\n",
    "    \n",
    "    dtc = DecisionTreeClassifier(max_depth=i)  #select a parameter to check\n",
    "    dtc.fit(X_train, y_train)                                  # train the model\n",
    "    predict_train = dtc.predict(X_train)\n",
    "    predict_test = dtc.predict(X_test)                                  # get predictions for both training and test\n",
    "    train_results[i] = f1_score(y_train, predict_train)\n",
    "    test_results[i] = f1_score(y_test, predict_test)                                # evaluate them and append them into the our lists.\n",
    "\n",
    "print(train_results)\n",
    "print()\n",
    "print (test_results)\n",
    "\n"
   ]
  },
  {
   "cell_type": "code",
   "execution_count": 62,
   "metadata": {},
   "outputs": [
    {
     "data": {
      "image/png": "[encoded data removed]",
      "text/plain": [
       "<Figure size 1000x400 with 1 Axes>"
      ]
     },
     "metadata": {},
     "output_type": "display_data"
    }
   ],
   "source": [
    "fig,ax = plt.subplots(figsize = (10,4));\n",
    "ax.plot(train_results.values(), color = 'r', label = 'train')\n",
    "ax.plot(test_results.values(), color = 'b', label = 'test')\n",
    "ax.set_title('Max Depth')\n",
    "ax.set_xlabel('Max Depth')\n",
    "ax.legend();"
   ]
  },
  {
   "cell_type": "code",
   "execution_count": 63,
   "metadata": {},
   "outputs": [
    {
     "name": "stdout",
     "output_type": "stream",
     "text": [
      "{2: 0.9754329440193316, 3: 0.96513470681458, 4: 0.9551999999999999, 5: 0.9464498214994049, 6: 0.9372990353697749, 7: 0.9371519490851233, 8: 0.9301574485264433, 9: 0.9230149133413946, 10: 0.9234488315874294, 11: 0.9184584178498986, 12: 0.9177037334403855, 13: 0.9156626506024096, 14: 0.9106280193236714, 15: 0.9098918702442931, 16: 0.90843081887858, 17: 0.9053999187982136, 18: 0.9053999187982136, 19: 0.9059205190592052, 20: 0.9039231385108085, 21: 0.8991121872477805, 22: 0.8934935764608372, 23: 0.8920570264765785, 24: 0.8916938110749186, 25: 0.8889776357827477, 26: 0.8889776357827477, 27: 0.8899521531100479, 28: 0.8899521531100479, 29: 0.8871096877502003, 30: 0.8871096877502003, 31: 0.8940992575224697, 32: 0.8940992575224697, 33: 0.8940992575224697, 34: 0.8914240755310779, 35: 0.8914240755310779, 36: 0.8913385826771654, 37: 0.8912529550827423, 38: 0.8908159243200631, 39: 0.8913128165173354, 40: 0.8913128165173354, 41: 0.8911431915723762, 42: 0.8911431915723762, 43: 0.8911431915723762, 44: 0.8911431915723762, 45: 0.8911431915723762, 46: 0.8907103825136611, 47: 0.8895776830685781, 48: 0.8829829432764775, 49: 0.8829829432764775}\n",
      "\n",
      "{2: 0.8778696051423325, 3: 0.8813868613138687, 4: 0.883720930232558, 5: 0.875, 6: 0.8743068391866914, 7: 0.8770642201834862, 8: 0.8814192343604109, 9: 0.8752327746741154, 10: 0.8643122676579925, 11: 0.8632558139534884, 12: 0.8698060941828255, 13: 0.8713235294117647, 14: 0.866171003717472, 15: 0.865616311399444, 16: 0.8707865168539326, 17: 0.8703007518796991, 18: 0.8714555765595463, 19: 0.8666035950804162, 20: 0.8669767441860464, 21: 0.8643592142188962, 22: 0.8727272727272727, 23: 0.8700564971751411, 24: 0.8617121354656633, 25: 0.8685927306616962, 26: 0.8685927306616962, 27: 0.8598130841121496, 28: 0.8598130841121496, 29: 0.859273066169618, 30: 0.859273066169618, 31: 0.8610354223433243, 32: 0.8610354223433243, 33: 0.8610108303249098, 34: 0.8568824065633546, 35: 0.8568824065633546, 36: 0.85662100456621, 37: 0.85662100456621, 38: 0.85662100456621, 39: 0.8633484162895928, 40: 0.8633484162895928, 41: 0.8641304347826086, 42: 0.8641304347826086, 43: 0.8641304347826086, 44: 0.8641304347826086, 45: 0.8641304347826086, 46: 0.8656987295825771, 47: 0.8586858685868587, 48: 0.8627087198515769, 49: 0.8627087198515769}\n"
     ]
    }
   ],
   "source": [
    "train_results = {}\n",
    "test_results = {}\n",
    "for i in range(2,50): # feel free to change these, I just threw out a reasonable option here.\n",
    "    \n",
    "    dtc = DecisionTreeClassifier(min_samples_leaf=i)  #select a parameter to check\n",
    "    dtc.fit(X_train, y_train)                                  # train the model\n",
    "    predict_train = dtc.predict(X_train)\n",
    "    predict_test = dtc.predict(X_test)                                  # get predictions for both training and test\n",
    "    train_results[i] = f1_score(y_train, predict_train)\n",
    "    test_results[i] = f1_score(y_test, predict_test)                                # evaluate them and append them into the our lists.\n",
    "\n",
    "print(train_results)\n",
    "print()\n",
    "print (test_results)"
   ]
  },
  {
   "cell_type": "code",
   "execution_count": 64,
   "metadata": {},
   "outputs": [
    {
     "data": {
      "image/png": "[encoded data removed]",
      "text/plain": [
       "<Figure size 1000x400 with 1 Axes>"
      ]
     },
     "metadata": {},
     "output_type": "display_data"
    }
   ],
   "source": [
    "fig,ax = plt.subplots(figsize = (10,4));\n",
    "ax.plot(train_results.values(), color = 'r', label = 'train')\n",
    "ax.plot(test_results.values(), color = 'b', label = 'test')\n",
    "ax.set_title('Minimum Leaf Size')\n",
    "ax.set_xlabel('Min. Leaf Size')\n",
    "ax.legend();"
   ]
  },
  {
   "cell_type": "code",
   "execution_count": 65,
   "metadata": {},
   "outputs": [
    {
     "name": "stdout",
     "output_type": "stream",
     "text": [
      "{2: 0.6940898345153663, 3: 0.7958567112645663, 4: 0.8401574803149607, 5: 0.857258064516129, 6: 0.8722612649855311, 7: 0.8722612649855311, 8: 0.8761984160066694, 9: 0.8790849673202614, 10: 0.8821355236139632, 11: 0.8846787479406919, 12: 0.8868703550784476, 13: 0.8890728476821192, 14: 0.8929920268569029, 15: 0.8929920268569029, 16: 0.8999584889995849, 17: 0.9055986922762567, 18: 0.9055986922762567, 19: 0.9079804560260586, 20: 0.9098360655737705, 21: 0.9111747851002865, 22: 0.9111747851002865, 23: 0.9111747851002865, 24: 0.9157894736842106, 25: 0.9176470588235293, 26: 0.9202898550724639, 27: 0.9215922798552473, 28: 0.9234468937875752, 29: 0.9241268566840626, 30: 0.92542101042502, 31: 0.9259259259259258, 32: 0.926672038678485, 33: 0.928341384863124, 34: 0.9296340973059912, 35: 0.9296906388107673, 36: 0.9313528703331995, 37: 0.9316619490497372, 38: 0.9324758842443729, 39: 0.9333868378812199, 40: 0.9337105901374293, 41: 0.9354191736863217, 42: 0.9362725450901804, 43: 0.9366168752523214, 44: 0.9369951534733442, 45: 0.9380817482800485, 46: 0.9389898989898989, 47: 0.9393817743877961, 48: 0.9393694421988682, 49: 0.9407948094079481}\n",
      "\n",
      "{2: 0.6717892425905598, 3: 0.7842364532019703, 4: 0.8283378746594005, 5: 0.8485418626528692, 6: 0.8522072936660269, 7: 0.8522072936660269, 8: 0.8557599225556631, 9: 0.8628571428571429, 10: 0.8598848368522073, 11: 0.8604427333974977, 12: 0.8662790697674418, 13: 0.8671193016488846, 14: 0.8616290480863592, 15: 0.8616290480863592, 16: 0.8638132295719844, 17: 0.8767908309455588, 18: 0.8738049713193117, 19: 0.8740458015267175, 20: 0.8700673724735323, 21: 0.8733205374280231, 22: 0.8703170028818443, 23: 0.8703170028818443, 24: 0.8783269961977186, 25: 0.8783269961977186, 26: 0.8751173708920188, 27: 0.8751173708920188, 28: 0.873477038425492, 29: 0.8724202626641651, 30: 0.8774555659494855, 31: 0.8740601503759398, 32: 0.8738229755178907, 33: 0.8767638758231419, 34: 0.8788732394366197, 35: 0.8801498127340824, 36: 0.8820224719101124, 37: 0.8767638758231419, 38: 0.8845437616387336, 39: 0.8855813953488373, 40: 0.8803738317757009, 41: 0.8878591288229842, 42: 0.888888888888889, 43: 0.883720930232558, 44: 0.8847583643122676, 45: 0.8847583643122676, 46: 0.8847583643122676, 47: 0.8899167437557817, 48: 0.8839368616527391, 49: 0.8814192343604109}\n"
     ]
    }
   ],
   "source": [
    "train_results = {}\n",
    "test_results = {}\n",
    "for i in range(2,50): # feel free to change these, I just threw out a reasonable option here.\n",
    "    \n",
    "    dtc = DecisionTreeClassifier(max_leaf_nodes= i)  #select a parameter to check\n",
    "    dtc.fit(X_train, y_train)                                  # train the model\n",
    "    predict_train = dtc.predict(X_train)\n",
    "    predict_test = dtc.predict(X_test)                                  # get predictions for both training and test\n",
    "    train_results[i] = f1_score(y_train, predict_train)\n",
    "    test_results[i] = f1_score(y_test, predict_test)                                # evaluate them and append them into the our lists.\n",
    "\n",
    "print(train_results)\n",
    "print()\n",
    "print(test_results)"
   ]
  },
  {
   "cell_type": "code",
   "execution_count": 66,
   "metadata": {},
   "outputs": [
    {
     "data": {
      "image/png": "[encoded data removed]",
      "text/plain": [
       "<Figure size 1000x400 with 1 Axes>"
      ]
     },
     "metadata": {},
     "output_type": "display_data"
    }
   ],
   "source": [
    "fig,ax = plt.subplots(figsize = (10,4));\n",
    "ax.plot(train_results.values(), color = 'r', label = 'train')\n",
    "ax.plot(test_results.values(), color = 'b', label = 'test')\n",
    "ax.set_title('Max Leaf Nodes')\n",
    "ax.set_xlabel('Max # of Leaf Nodes')\n",
    "ax.legend();\n",
    "\n",
    "# talk about setting max features?"
   ]
  },
  {
   "attachments": {},
   "cell_type": "markdown",
   "metadata": {},
   "source": [
    "## That's a lot of numbers!\n",
    "\n",
    "What do all those numbers tell us? Well we can pick out the best values using something like `np.max` and then we can relate it to the best parameter with the argument that correlates to that value (so depth 2 gave us .85 score etc).  But I think we'll find more interesting to plot these points.  I've provided the code for you below."
   ]
  },
  {
   "cell_type": "code",
   "execution_count": null,
   "metadata": {},
   "outputs": [],
   "source": []
  },
  {
   "attachments": {},
   "cell_type": "markdown",
   "metadata": {},
   "source": [
    "## This graph is called a validation curve\n",
    "\n",
    "What we have done is plotted the performance of the training and testing data against a parameter that was varied. How do we read this graph?\n",
    "What information can you glean?\n",
    "When does our model start to overfit?  \n",
    "Based on what you see here, what do you think the best choice for the parameter you were checking is?  That is, looking at the graph, what value would you choose for a spam detection model that you were going to deploy? Don't forget the purpose of the model!\n"
   ]
  },
  {
   "attachments": {},
   "cell_type": "markdown",
   "metadata": {},
   "source": [
    "#### Your answers here"
   ]
  },
  {
   "cell_type": "code",
   "execution_count": null,
   "metadata": {},
   "outputs": [],
   "source": []
  },
  {
   "attachments": {},
   "cell_type": "markdown",
   "metadata": {},
   "source": [
    "# Finally... we ... made a mistake!\n",
    "Do you see what the giant mistake we did? Go ahead and let us know below.\n",
    "If you don't see the mistake... don't worry I'll explain in the next unit!\n"
   ]
  },
  {
   "attachments": {},
   "cell_type": "markdown",
   "metadata": {},
   "source": [
    "#### Your answer here"
   ]
  },
  {
   "cell_type": "code",
   "execution_count": null,
   "metadata": {},
   "outputs": [],
   "source": []
  }
 ],
 "metadata": {
  "kernelspec": {
   "display_name": "Python 3",
   "language": "python",
   "name": "python3"
  },
  "language_info": {
   "codemirror_mode": {
    "name": "ipython",
    "version": 3
   },
   "file_extension": ".py",
   "mimetype": "text/x-python",
   "name": "python",
   "nbconvert_exporter": "python",
   "pygments_lexer": "ipython3",
   "version": "3.11.3"
  }
 },
 "nbformat": 4,
 "nbformat_minor": 4
}
